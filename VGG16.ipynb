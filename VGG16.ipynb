{
 "cells": [
  {
   "cell_type": "markdown",
   "metadata": {},
   "source": [
    "# VGG-16 Implementation  \n",
    "  \n",
    "    \n",
    "      \n",
    "      \n",
    "  \n",
    "This Model replicates the model described in the [**VGG-16 paper.**](https://arxiv.org/pdf/1409.1556.pdf)  \n",
    "  \n",
    "  VGG-16 paper is based on the VGG's **ImageNet Challenge 2014 submission**, where their team secured the first and the second places in the localisation and classification tracks respectively.  \n",
    "  It's main contribution is a thorough evaluation of **networks of increasing depth** using an architecture with very small (3 × 3) convolution filters, which shows that a significant improvement on the prior-art configurations can be achieved by pushing the depth to 16–19 weight layers.\n",
    "  \n",
    "However, the dataset used in our implementation is different, in which every image is of size **64 x 64 x 3**, so the first 3 stages of Convolution layers and 2 fully connected layers are implemented beacause of the small size of images.  \n",
    "  \n",
    "The model is implemented in **Keras with tensorflow backend.**  \n",
    "  \n",
    "Below Cell imports the required python libraries:"
   ]
  },
  {
   "cell_type": "code",
   "execution_count": 43,
   "metadata": {},
   "outputs": [],
   "source": [
    "import h5py\n",
    "import numpy as np\n",
    "from keras import layers\n",
    "from keras.layers import Input, Add, Dense, Activation, ZeroPadding2D, BatchNormalization, Flatten, Conv2D, AveragePooling2D, MaxPooling2D, GlobalMaxPooling2D\n",
    "from keras.models import Model, load_model\n",
    "from keras.preprocessing import image\n",
    "from keras.utils import layer_utils\n",
    "from keras.utils.data_utils import get_file\n",
    "from keras.applications.imagenet_utils import preprocess_input\n",
    "import pydotplus\n",
    "from IPython.display import SVG\n",
    "from keras.utils.vis_utils import model_to_dot\n",
    "from keras.utils import plot_model\n",
    "from keras.initializers import glorot_uniform\n",
    "import scipy.misc\n",
    "from matplotlib.pyplot import imshow\n",
    "import matplotlib.pylab as plt\n",
    "%matplotlib inline\n",
    "\n",
    "import keras.backend as K\n",
    "K.set_image_data_format('channels_last')\n",
    "K.set_learning_phase(1)"
   ]
  },
  {
   "cell_type": "markdown",
   "metadata": {},
   "source": [
    "The dataset is stored in a **h5 file format**, so we extract the training & test data and Class labels from the h5 package.  \n",
    "  \n",
    "Following function extracts the data & labels and returns them."
   ]
  },
  {
   "cell_type": "code",
   "execution_count": 44,
   "metadata": {},
   "outputs": [],
   "source": [
    "#Objective:Loads the dataset & labels and returns Test & Train data\n",
    "#inputs:None\n",
    "#Outputs:Train & Test data and labels\n",
    "#invoked by:Main\n",
    "#invokes:None\n",
    "#approach:h5py library is used to load the dataset\n",
    "\n",
    "def load_dataset():\n",
    "    train_dataset = h5py.File('data/train_signs.h5', \"r\")\n",
    "    train_set_x_orig = np.array(train_dataset[\"train_set_x\"][:]) # train set features\n",
    "    train_set_y_orig = np.array(train_dataset[\"train_set_y\"][:]) # train set labels\n",
    "\n",
    "    test_dataset = h5py.File('data/test_signs.h5', \"r\")\n",
    "    test_set_x_orig = np.array(test_dataset[\"test_set_x\"][:]) # test set features\n",
    "    test_set_y_orig = np.array(test_dataset[\"test_set_y\"][:]) # test set labels\n",
    "\n",
    "    classes = np.array(test_dataset[\"list_classes\"][:]) # list of classes\n",
    "    \n",
    "    train_set_y_orig = train_set_y_orig.reshape((1, train_set_y_orig.shape[0]))\n",
    "    test_set_y_orig = test_set_y_orig.reshape((1, test_set_y_orig.shape[0]))\n",
    "    \n",
    "    return train_set_x_orig, train_set_y_orig, test_set_x_orig, test_set_y_orig, classes"
   ]
  },
  {
   "cell_type": "markdown",
   "metadata": {},
   "source": [
    "Following function converts the categorical class labels into one hot bit arrays so that deep learning algorithms can work on it."
   ]
  },
  {
   "cell_type": "code",
   "execution_count": 45,
   "metadata": {},
   "outputs": [],
   "source": [
    "#Objective:One hot encoding of the data\n",
    "#inputs:labels<Y> and no. of classes<C>\n",
    "#Outputs:One hot encoded labels\n",
    "#invoked by:Main\n",
    "#invokes:None\n",
    "#approach:numpy functions are used to one hot encode\n",
    "def convert_to_one_hot(Y, C):\n",
    "    Y = np.eye(C)[Y.reshape(-1)].T\n",
    "    return Y"
   ]
  },
  {
   "cell_type": "markdown",
   "metadata": {},
   "source": [
    "# Description of Data  \n",
    "  \n",
    "The dataset contains color images of hand signs at different angles and orientations which indicate integers from 0 to 5.  \n",
    "The dataset was taken from the [coursera.org](http://www.coursera.org) website.\n",
    "\n",
    "<img src=\"images/signs_data_kiank.png\" style=\"width:450px;height:250px;\">\n",
    "<caption><center> <font color='purple'>  **SIGNS dataset** </center></caption>\n",
    "Total images in Dataset:   **1200** images  \n",
    "Images in Training:        **1080** images  \n",
    "Images is Testing:         **120** images  \n",
    "Dimensions of an Image:    **64 x 64 x 3**  \n",
    "Number of classes: **6** Classes\n",
    "  \n",
    "  The dataset was taken from the coursera.org\n",
    "\n",
    "The images are normalized by dividing them with 255."
   ]
  },
  {
   "cell_type": "code",
   "execution_count": 46,
   "metadata": {},
   "outputs": [
    {
     "name": "stdout",
     "output_type": "stream",
     "text": [
      "number of training examples = 1080\n",
      "number of test examples = 120\n",
      "X_train shape: (1080, 64, 64, 3)\n",
      "Y_train shape: (1080, 6)\n",
      "X_test shape: (120, 64, 64, 3)\n",
      "Y_test shape: (120, 6)\n"
     ]
    }
   ],
   "source": [
    "#Objective:Calls the functions to load dataset and one hot encode labels (Main function)\n",
    "#inputs:N/A\n",
    "#Outputs:Prints the shapes of train and test data\n",
    "#invoked by:N/A\n",
    "#invokes:load_dataset() & convert_to_one_hot\n",
    "#approach:N/A\n",
    "\n",
    "X_train_orig, Y_train_orig, X_test_orig, Y_test_orig, classes = load_dataset()\n",
    "\n",
    "# Normalize image vectors\n",
    "X_train = X_train_orig/255.\n",
    "X_test = X_test_orig/255.\n",
    "\n",
    "# Convert training and test labels to one hot matrices\n",
    "Y_train = convert_to_one_hot(Y_train_orig, 6).T\n",
    "Y_test = convert_to_one_hot(Y_test_orig, 6).T\n",
    "\n",
    "print (\"number of training examples = \" + str(X_train.shape[0]))\n",
    "print (\"number of test examples = \" + str(X_test.shape[0]))\n",
    "print (\"X_train shape: \" + str(X_train.shape))\n",
    "print (\"Y_train shape: \" + str(Y_train.shape))\n",
    "print (\"X_test shape: \" + str(X_test.shape))\n",
    "print (\"Y_test shape: \" + str(Y_test.shape))"
   ]
  },
  {
   "cell_type": "markdown",
   "metadata": {},
   "source": [
    "Run below cell to look at a particular image from training set...(You can change value of i for corresponding image)."
   ]
  },
  {
   "cell_type": "code",
   "execution_count": 47,
   "metadata": {},
   "outputs": [
    {
     "name": "stdout",
     "output_type": "stream",
     "text": [
      "class:  [2]\n"
     ]
    },
    {
     "data": {
      "image/png": "[encoded data removed]",
      "text/plain": [
       "<matplotlib.figure.Figure at 0x21d2bf8e550>"
      ]
     },
     "metadata": {},
     "output_type": "display_data"
    }
   ],
   "source": [
    "#Objective:Displays any particular image from training set (change value of 'i' for different images)\n",
    "#inputs:N/A\n",
    "#Outputs:N/A\n",
    "#invoked by:N/A\n",
    "#invokes:N/A\n",
    "#approach:Uses Matplotlib functions to dislplay image\n",
    "\n",
    "i=80\n",
    "print('class: ',Y_train_orig[:,i])\n",
    "plt.figure(figsize=(3,3))\n",
    "plt.imshow(X_train_orig[i]);"
   ]
  },
  {
   "cell_type": "markdown",
   "metadata": {},
   "source": [
    "# Model Description:  \n",
    "\n",
    "Below Model uses **7 Convolution layers**. In every covulation layer:\n",
    "+ Filter size : **3 x 3**\n",
    "+ **No** Padding\n",
    "+ Strides : **1**\n",
    "+ All the parameters are **randomly initialized** with seed=0\n",
    "+ Activation function used : **Relu**\n",
    "  \n",
    "There are **3 MaxPool layers**,in which:\n",
    "+ Filter size : **2 x 2**\n",
    "+ Strides : **2**\n",
    "\n",
    "And **2 fully connected layers**:\n",
    "+ First fully connected layer has **1024 hidden units** and **Relu activation**\n",
    "+ second fully connected layer has **6 hidden units** and uses **Softmax activation**\n",
    "  \n",
    "The comvolution and Maxpooling layers are expanded accross 3 stages:\n",
    "+ First stage uses **64 filters**\n",
    "+ Second stage uses **128 filters**\n",
    "+ Third stage uses **256 filters**\n",
    "\n",
    "(Originally there are 5 stages in VGG16 Network but due to image size restrictions, our model is limited to 3 stages)  \n",
    "  \n",
    "After 3 Convolution stages, The images are **flattened** and feeded to fully connected layers."
   ]
  },
  {
   "cell_type": "code",
   "execution_count": 52,
   "metadata": {},
   "outputs": [],
   "source": [
    "#Objective:Implements the VGG16 architecture\n",
    "#inputs:Shape of input image & No. of classes\n",
    "#Outputs:Returns the implemented CNN model\n",
    "#invoked by:N/A\n",
    "#invokes:N/A\n",
    "#approach:Uses Keras library functions to implement CNN model\n",
    "\n",
    "def VGG16(input_shape = (64, 64, 3), classes = 6):\n",
    "    \n",
    "    # Define the input as a tensor with shape input_shape\n",
    "    X_input = Input(input_shape)\n",
    "    \n",
    "    # Zero-Padding\n",
    "    X = ZeroPadding2D((3, 3))(X_input)\n",
    "    \n",
    "    # Stage 1\n",
    "    X = Conv2D(64, (3, 3), strides = (1, 1), name = 'conv1', kernel_initializer = glorot_uniform(seed=0))(X)\n",
    "    X = Conv2D(64, (3, 3), strides = (1, 1), name = 'conv2', kernel_initializer = glorot_uniform(seed=0))(X)\n",
    "    X = Activation('relu')(X)\n",
    "    X = MaxPooling2D((2, 2), strides=(2, 2),name='max_pool1')(X)\n",
    "\n",
    "    # Stage 2\n",
    "    X = Conv2D(128, (3, 3), strides = (1, 1), name = 'conv3', kernel_initializer = glorot_uniform(seed=0))(X)\n",
    "    X = Conv2D(128, (3, 3), strides = (1, 1), name = 'conv4', kernel_initializer = glorot_uniform(seed=0))(X)\n",
    "    X = Activation('relu')(X)\n",
    "    X = MaxPooling2D((2, 2), strides=(2, 2),name='max_pool2')(X)\n",
    "\n",
    "    # Stage 3 \n",
    "    X = Conv2D(256, (3, 3), strides = (1, 1), name = 'conv5', kernel_initializer = glorot_uniform(seed=0))(X)\n",
    "    X = Conv2D(256, (3, 3), strides = (1, 1), name = 'conv6', kernel_initializer = glorot_uniform(seed=0))(X)\n",
    "    X = Conv2D(256, (3, 3), strides = (1, 1), name = 'conv7', kernel_initializer = glorot_uniform(seed=0))(X)\n",
    "    X = Activation('relu')(X)\n",
    "    X = MaxPooling2D((2, 2), strides=(2, 2),name='max_pool3')(X)\n",
    "\n",
    "    # output layer\n",
    "    X = Flatten()(X)\n",
    "    X = Dense(1024, activation='relu', name='fc1', kernel_initializer = glorot_uniform(seed=0))(X)\n",
    "    X = Dense(classes, activation='softmax', name='fc' + str(classes), kernel_initializer = glorot_uniform(seed=0))(X)\n",
    "    \n",
    "    \n",
    "    # Create model\n",
    "    model = Model(inputs = X_input, outputs = X, name='VGG16')\n",
    "\n",
    "    return model"
   ]
  },
  {
   "cell_type": "markdown",
   "metadata": {},
   "source": [
    "Following Cell creates the above described model."
   ]
  },
  {
   "cell_type": "code",
   "execution_count": 53,
   "metadata": {},
   "outputs": [],
   "source": [
    "#Objective:Invokes the VGG16() to create model\n",
    "#inputs:N/A\n",
    "#Outputs:N/A\n",
    "#invoked by:N/A\n",
    "#invokes:VGG16()\n",
    "#approach:N/A\n",
    "\n",
    "model = VGG16(input_shape = (64, 64, 3), classes = 6)"
   ]
  },
  {
   "cell_type": "markdown",
   "metadata": {},
   "source": [
    "After creating the model we need to compile it using a optimizer in order to minimize a particular loss function.  \n",
    "   \n",
    "In our model:\n",
    "+ Optimizer used : **Adams Optimizer**\n",
    "+ Loss function : **Categorical Cross Entropy**\n",
    "\n",
    "Run following cell to compile the model."
   ]
  },
  {
   "cell_type": "code",
   "execution_count": 54,
   "metadata": {},
   "outputs": [],
   "source": [
    "#Objective:Compiles the above implemented model on given parameters\n",
    "#inputs:Optimizer used, loss function used and Metrics to be displayed\n",
    "#Outputs:N/A\n",
    "#invoked by:N/A\n",
    "#invokes:N/A\n",
    "#approach:N/A\n",
    "\n",
    "model.compile(optimizer='adam', loss='categorical_crossentropy', metrics=['accuracy'])"
   ]
  },
  {
   "cell_type": "markdown",
   "metadata": {},
   "source": [
    "Now our model is ready to be trained on the traing set, Here we used:\n",
    "+ No. of iterations: **5**\n",
    "+ Size of mini batches: **16**  \n",
    "\n",
    "Run the following cell to train the model on 5 iterations with a batch size of 16. "
   ]
  },
  {
   "cell_type": "code",
   "execution_count": 55,
   "metadata": {
    "scrolled": false
   },
   "outputs": [
    {
     "name": "stdout",
     "output_type": "stream",
     "text": [
      "Epoch 1/5\n",
      "1080/1080 [==============================] - 174s 161ms/step - loss: 13.1409 - acc: 0.1639\n",
      "Epoch 2/5\n",
      "1080/1080 [==============================] - 162s 150ms/step - loss: 13.4317 - acc: 0.1667\n",
      "Epoch 3/5\n",
      "1080/1080 [==============================] - 168s 155ms/step - loss: 13.4317 - acc: 0.1667\n",
      "Epoch 4/5\n",
      "1080/1080 [==============================] - 174s 161ms/step - loss: 13.4317 - acc: 0.1667\n",
      "Epoch 5/5\n",
      "1080/1080 [==============================] - 177s 164ms/step - loss: 13.4317 - acc: 0.1667\n"
     ]
    },
    {
     "data": {
      "text/plain": [
       "<keras.callbacks.History at 0x21d278ff320>"
      ]
     },
     "execution_count": 55,
     "metadata": {},
     "output_type": "execute_result"
    }
   ],
   "source": [
    "#Objective:Fits the above compiled model on given training data\n",
    "#inputs:X_train, Y_train, no. of iterations and Batch size\n",
    "#Outputs:loss & accuracy after every iteration\n",
    "#invoked by:N/A\n",
    "#invokes:N/A\n",
    "#approach:N/A\n",
    "model.fit(X_train, Y_train, epochs = 5, batch_size = 32)"
   ]
  },
  {
   "cell_type": "markdown",
   "metadata": {},
   "source": [
    "Let's see how this model (trained on only five iterations) performs on the test set."
   ]
  },
  {
   "cell_type": "code",
   "execution_count": 56,
   "metadata": {
    "scrolled": true
   },
   "outputs": [
    {
     "name": "stdout",
     "output_type": "stream",
     "text": [
      "120/120 [==============================] - 6s 50ms/step\n",
      "Loss = 13.4317464828\n",
      "Test Accuracy = 0.166666667163\n"
     ]
    }
   ],
   "source": [
    "#Objective:Evaluates the above trained model on test data\n",
    "#inputs:X_test, Y_test\n",
    "#Outputs:Loss & Accuracy on test data\n",
    "#invoked by:N/A\n",
    "#invokes:N/A\n",
    "#approach:N/A\n",
    "preds = model.evaluate(X_test, Y_test)\n",
    "print (\"Loss = \" + str(preds[0]))\n",
    "print (\"Test Accuracy = \" + str(preds[1]))"
   ]
  },
  {
   "cell_type": "markdown",
   "metadata": {},
   "source": [
    "Here is a **summary** of the above model.    \n",
    "  \n",
    "  \n",
    "It shows the **dimensions of output** at every layer and the **no. of parameters** at every layer.  \n",
    "  \n",
    "  Total trainable Parameters in the model: **5,936,966**"
   ]
  },
  {
   "cell_type": "code",
   "execution_count": 57,
   "metadata": {
    "scrolled": true
   },
   "outputs": [
    {
     "name": "stdout",
     "output_type": "stream",
     "text": [
      "_________________________________________________________________\n",
      "Layer (type)                 Output Shape              Param #   \n",
      "=================================================================\n",
      "input_7 (InputLayer)         (None, 64, 64, 3)         0         \n",
      "_________________________________________________________________\n",
      "zero_padding2d_7 (ZeroPaddin (None, 70, 70, 3)         0         \n",
      "_________________________________________________________________\n",
      "conv1 (Conv2D)               (None, 68, 68, 64)        1792      \n",
      "_________________________________________________________________\n",
      "conv2 (Conv2D)               (None, 66, 66, 64)        36928     \n",
      "_________________________________________________________________\n",
      "activation_19 (Activation)   (None, 66, 66, 64)        0         \n",
      "_________________________________________________________________\n",
      "max_pool1 (MaxPooling2D)     (None, 33, 33, 64)        0         \n",
      "_________________________________________________________________\n",
      "conv3 (Conv2D)               (None, 31, 31, 128)       73856     \n",
      "_________________________________________________________________\n",
      "conv4 (Conv2D)               (None, 29, 29, 128)       147584    \n",
      "_________________________________________________________________\n",
      "activation_20 (Activation)   (None, 29, 29, 128)       0         \n",
      "_________________________________________________________________\n",
      "max_pool2 (MaxPooling2D)     (None, 14, 14, 128)       0         \n",
      "_________________________________________________________________\n",
      "conv5 (Conv2D)               (None, 12, 12, 256)       295168    \n",
      "_________________________________________________________________\n",
      "conv6 (Conv2D)               (None, 10, 10, 256)       590080    \n",
      "_________________________________________________________________\n",
      "conv7 (Conv2D)               (None, 8, 8, 256)         590080    \n",
      "_________________________________________________________________\n",
      "activation_21 (Activation)   (None, 8, 8, 256)         0         \n",
      "_________________________________________________________________\n",
      "max_pool3 (MaxPooling2D)     (None, 4, 4, 256)         0         \n",
      "_________________________________________________________________\n",
      "flatten_7 (Flatten)          (None, 4096)              0         \n",
      "_________________________________________________________________\n",
      "fc1 (Dense)                  (None, 1024)              4195328   \n",
      "_________________________________________________________________\n",
      "fc6 (Dense)                  (None, 6)                 6150      \n",
      "=================================================================\n",
      "Total params: 5,936,966\n",
      "Trainable params: 5,936,966\n",
      "Non-trainable params: 0\n",
      "_________________________________________________________________\n"
     ]
    }
   ],
   "source": [
    "#Objective:Displays the summary of the model (shape & No. of parameters at every layer)\n",
    "#inputs:N/A\n",
    "#Outputs:N/A\n",
    "#invoked by:N/A\n",
    "#invokes:N/A\n",
    "#approach:N/A\n",
    "model.summary()"
   ]
  }
 ],
 "metadata": {
  "coursera": {
   "course_slug": "convolutional-neural-networks",
   "graded_item_id": "OEpi5",
   "launcher_item_id": "jK9EQ"
  },
  "kernelspec": {
   "display_name": "Python 3",
   "language": "python",
   "name": "python3"
  },
  "language_info": {
   "codemirror_mode": {
    "name": "ipython",
    "version": 3
   },
   "file_extension": ".py",
   "mimetype": "text/x-python",
   "name": "python",
   "nbconvert_exporter": "python",
   "pygments_lexer": "ipython3",
   "version": "3.5.4"
  }
 },
 "nbformat": 4,
 "nbformat_minor": 2
}
