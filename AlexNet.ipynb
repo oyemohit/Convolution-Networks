{
 "cells": [
  {
   "cell_type": "markdown",
   "metadata": {},
   "source": [
    "# AlexNet Implementation  \n",
    "  \n",
    "    \n",
    "      \n",
    "      \n",
    "  \n",
    "This Model implements the model described in the [**AlexNet paper.**](https://papers.nips.cc/paper/4824-imagenet-classification-with-deep-convolutional-neural-networks.pdf)    \n",
    "  \n",
    "  AlexNet trained a large, deep convolutional neural network to classify the **1.2 million high-resolution images** in the ImageNet LSVRC-2010 contest into the 1000 different classes.  \n",
    "  It has **60 million parameters and 650,000 neurons**, consists of five convolutional layers, some of which are followed by max-pooling layers, and three fully-connected layers with a final 1000-way softmax\n",
    "  \n",
    "The model is implemented in **Keras with tensorflow backend.**  \n",
    "  \n",
    "Below Cell imports the required python libraries:"
   ]
  },
  {
   "cell_type": "code",
   "execution_count": 1,
   "metadata": {},
   "outputs": [
    {
     "name": "stderr",
     "output_type": "stream",
     "text": [
      "Using TensorFlow backend.\n"
     ]
    }
   ],
   "source": [
    "import numpy as np \n",
    "import pandas as pd\n",
    "import tensorflow as tf\n",
    "\n",
    "from PIL import ImageFile\n",
    "from tqdm import tqdm\n",
    "import h5py\n",
    "import cv2\n",
    "\n",
    "import pydotplus\n",
    "from IPython.display import SVG\n",
    "from keras.utils.vis_utils import model_to_dot\n",
    "import matplotlib.pylab as plt\n",
    "from matplotlib import cm\n",
    "import seaborn as sns\n",
    "%matplotlib inline\n",
    "\n",
    "from sklearn.model_selection import train_test_split\n",
    "from sklearn.ensemble import GradientBoostingClassifier, RandomForestClassifier\n",
    "\n",
    "from keras.utils import plot_model\n",
    "from keras.utils import to_categorical\n",
    "from keras.preprocessing import image as keras_image\n",
    "from keras.preprocessing.image import ImageDataGenerator\n",
    "\n",
    "from keras.models import Sequential, load_model, Model\n",
    "from keras.layers import Input, BatchNormalization\n",
    "from keras.layers import Dense, LSTM, GlobalAveragePooling1D, GlobalAveragePooling2D\n",
    "from keras.layers import Activation, Flatten, Dropout, BatchNormalization\n",
    "from keras.layers import Conv2D, MaxPooling2D, GlobalMaxPooling2D\n",
    "\n",
    "from keras.applications.inception_v3 import InceptionV3, preprocess_input\n",
    "import scipy\n",
    "from scipy import misc"
   ]
  },
  {
   "cell_type": "markdown",
   "metadata": {},
   "source": [
    "# Load and Explore the Data\n",
    "\n",
    "For this Model, we are using the database of various **fashion products** sorted by two labels **product type** and **brands**.  \n",
    "This dataset was taken from the [kaggle.](https://www.kaggle.com/olgabelitskaya/style-color-images)  \n",
    "\n",
    "The dataset consists of :\n",
    "+ **894 color images (150x150x3)**- 715 Training Images and 179 Test Images\n",
    "+ **7 brands and 10 products**\n",
    "\n",
    "and the file with labels is style.csv. Photo files are in the .png format and the labels are integers and values.  \n",
    "  \n",
    "Since there are two labels, we can train our model to classify any one of them...here we trained it to detect **Product Type**\n",
    "\n",
    "\n",
    "Run the following cell to load the dataset labels:"
   ]
  },
  {
   "cell_type": "code",
   "execution_count": 2,
   "metadata": {
    "scrolled": true
   },
   "outputs": [
    {
     "name": "stdout",
     "output_type": "stream",
     "text": [
      "Brand Names: {'Gucci', 'Christian Louboutin', 'Versace', 'Yves Saint Laurent', 'Christian Dior', 'Dolce & Gabbana', 'Chanel'}\n",
      "\n",
      "Product Types: {'handbag', 'necklace', 'ring', 'nail polish', 'earrings', 'bracelet', 'lipstick', 'boots', 'shoes', 'watches'}\n"
     ]
    }
   ],
   "source": [
    "#Objective:Explores the dataset\n",
    "#inputs:path of data file\n",
    "#Outputs:N/A\n",
    "#invoked by:N/A\n",
    "#invokes:N/A\n",
    "#approach:pandas library is used to read and explore data\n",
    "\n",
    "data = pd.read_csv(\"data/style.csv\")\n",
    "print(\"Brand Names:\",set(data['brand_name']))\n",
    "print(\"\\nProduct Types:\",set(data['product_name']))"
   ]
  },
  {
   "cell_type": "markdown",
   "metadata": {},
   "source": [
    "Following cell defines the functions for converting the image data into tensors for input to Model's first layer:"
   ]
  },
  {
   "cell_type": "code",
   "execution_count": 3,
   "metadata": {},
   "outputs": [],
   "source": [
    "#Objective:Function for processing an image and converting it into tensor\n",
    "#inputs:path of img_file\n",
    "#Outputs:image tensor\n",
    "#invoked by:data_to_tensor()\n",
    "#invokes:N/A\n",
    "#approach:N/A\n",
    "def image_to_tensor(img_path):\n",
    "    img = keras_image.load_img(\"data/style/\" + img_path, target_size=(150, 150))\n",
    "    x = keras_image.img_to_array(img)\n",
    "    return np.expand_dims(x, axis=0)\n",
    "\n",
    "\n",
    "#Objective: Function for creating the data tensor\n",
    "#inputs:path of img_file\n",
    "#Outputs:list of tensors\n",
    "#invoked by:Main\n",
    "#invokes:image_to_tensor()\n",
    "#approach:N/A\n",
    "def data_to_tensor(img_paths):\n",
    "    list_of_tensors = [image_to_tensor(img_path) for img_path in tqdm(img_paths)]\n",
    "    return np.vstack(list_of_tensors)\n",
    "\n",
    "ImageFile.LOAD_TRUNCATED_IMAGES = True"
   ]
  },
  {
   "cell_type": "markdown",
   "metadata": {},
   "source": [
    "Run below cell to convert data labels to matrices and load the images."
   ]
  },
  {
   "cell_type": "code",
   "execution_count": 4,
   "metadata": {},
   "outputs": [
    {
     "name": "stderr",
     "output_type": "stream",
     "text": [
      "100%|███████████████████████████████████████████████████████████████████████████████| 894/894 [00:01<00:00, 498.58it/s]\n"
     ]
    }
   ],
   "source": [
    "#Objective: Creates Tensors for labels as images\n",
    "#inputs:N/A\n",
    "#Outputs:N/A\n",
    "#invoked by:N/A\n",
    "#invokes:data_to_tensor()\n",
    "#approach:N/A\n",
    "\n",
    "brands = data['brand_label'].as_matrix()\n",
    "products = data['product_label'].as_matrix()\n",
    "images = data_to_tensor(data['file']);"
   ]
  },
  {
   "cell_type": "markdown",
   "metadata": {},
   "source": [
    "Initial Dimensions of all Vectors:"
   ]
  },
  {
   "cell_type": "code",
   "execution_count": 5,
   "metadata": {},
   "outputs": [
    {
     "name": "stdout",
     "output_type": "stream",
     "text": [
      "Image shape: (894, 150, 150, 3)\n",
      "Brand shape (894,)\n",
      "Product shape (894,)\n"
     ]
    }
   ],
   "source": [
    "#Objective: Prints shapes of labels and images\n",
    "#inputs:N/A\n",
    "#Outputs:N/A\n",
    "#invoked by:N/A\n",
    "#invokes:N/A\n",
    "#approach:N/A\n",
    "print ('Image shape:', images.shape)\n",
    "print ('Brand shape', brands.shape)\n",
    "print ('Product shape', products.shape)"
   ]
  },
  {
   "cell_type": "markdown",
   "metadata": {},
   "source": [
    "The following cell packs the images and labels into h5 format for efficient processing"
   ]
  },
  {
   "cell_type": "code",
   "execution_count": 6,
   "metadata": {},
   "outputs": [
    {
     "name": "stdout",
     "output_type": "stream",
     "text": [
      "Image shape: (894, 150, 150, 3)\n",
      "Brand shape (894,)\n",
      "Product shape (894,)\n"
     ]
    }
   ],
   "source": [
    "#Objective: Create the tensor file\n",
    "#inputs: path to save h5 file and data tensors\n",
    "#Outputs:N/A\n",
    "#invoked by:N/A\n",
    "#invokes:N/A\n",
    "#approach:N/A\n",
    "\n",
    "with h5py.File('data/StyleColorImages.h5', 'w') as f:\n",
    "    f.create_dataset('images', data = images)\n",
    "    f.create_dataset('brands', data = brands)\n",
    "    f.create_dataset('products', data = products)\n",
    "    f.close()\n",
    "# Read the h5 file\n",
    "f = h5py.File('data/StyleColorImages.h5', 'r')\n",
    "\n",
    "# List all groups\n",
    "keys = list(f.keys())\n",
    "\n",
    "# Create tensors and targets\n",
    "brands = np.array(f[keys[0]])\n",
    "images = np.array(f[keys[1]])\n",
    "products = np.array(f[keys[2]])\n",
    "\n",
    "print ('Image shape:', images.shape)\n",
    "print ('Brand shape', brands.shape)\n",
    "print ('Product shape', products.shape)"
   ]
  },
  {
   "cell_type": "code",
   "execution_count": 7,
   "metadata": {},
   "outputs": [
    {
     "data": {
      "text/plain": [
       "(894, 10)"
      ]
     },
     "execution_count": 7,
     "metadata": {},
     "output_type": "execute_result"
    }
   ],
   "source": [
    "#Objective: Normalize & one hot encode tensors\n",
    "#inputs: label tensors\n",
    "#Outputs:N/A\n",
    "#invoked by:N/A\n",
    "#invokes:N/A\n",
    "#approach:N/A\n",
    "\n",
    "images = images.astype('float32')/255\n",
    "# One-hot encode the products\n",
    "cat_products = to_categorical(products, 10)\n",
    "cat_products.shape"
   ]
  },
  {
   "cell_type": "markdown",
   "metadata": {},
   "source": [
    "Run below cell to look at a particular image from dataset...(You can change value of i for corresponding image)."
   ]
  },
  {
   "cell_type": "code",
   "execution_count": 8,
   "metadata": {},
   "outputs": [
    {
     "name": "stdout",
     "output_type": "stream",
     "text": [
      "Product:  shoes\n",
      "Brand:  Christian Dior\n"
     ]
    },
    {
     "data": {
      "image/png": "[encoded data removed]",
      "text/plain": [
       "<matplotlib.figure.Figure at 0x1d954d27898>"
      ]
     },
     "metadata": {},
     "output_type": "display_data"
    }
   ],
   "source": [
    "#Objective: Read and display an image tensor using Matplotlib\n",
    "#inputs: image & label tensors\n",
    "#Outputs:N/A\n",
    "#invoked by:N/A\n",
    "#invokes:N/A\n",
    "#approach:N/A\n",
    "\n",
    "i=526\n",
    "print('Product: ', data['product_name'][i])\n",
    "print('Brand: ', data['brand_name'][i])\n",
    "plt.figure(figsize=(3,3))\n",
    "plt.imshow(images[i]);"
   ]
  },
  {
   "cell_type": "markdown",
   "metadata": {},
   "source": [
    "Normalize the image vectors and create one hot encodings:"
   ]
  },
  {
   "cell_type": "markdown",
   "metadata": {},
   "source": [
    "Split the data into training and testing data, Here:\n",
    "+ Training size is 80% of dataset : **715 images**\n",
    "+ Testing size is 20% of dataset : **179 images**"
   ]
  },
  {
   "cell_type": "code",
   "execution_count": 9,
   "metadata": {},
   "outputs": [
    {
     "name": "stdout",
     "output_type": "stream",
     "text": [
      "Training tensor's shape: (715, 150, 150, 3)\n",
      "Training target's shape (715, 10)\n",
      "Testing tensor's shape: (179, 150, 150, 3)\n",
      "Testing target's shape (179, 10)\n"
     ]
    }
   ],
   "source": [
    "#Objective:Split the data into train & test\n",
    "#inputs: image & label tensors\n",
    "#Outputs:x_train,y_train,x_test,y_test\n",
    "#invoked by:N/A\n",
    "#invokes:N/A\n",
    "#approach:N/A\n",
    "x_train, x_test, y_train, y_test = train_test_split(images, cat_products, \n",
    "                                                        test_size = 0.2, \n",
    "                                                        random_state = 1)\n",
    "# Print the shape\n",
    "print (\"Training tensor's shape:\", x_train.shape)\n",
    "print (\"Training target's shape\", y_train.shape)\n",
    "print (\"Testing tensor's shape:\", x_test.shape)\n",
    "print (\"Testing target's shape\", y_test.shape)"
   ]
  },
  {
   "cell_type": "markdown",
   "metadata": {},
   "source": [
    "# Model Description:  \n",
    "\n",
    "Below Model uses **5 Convolution layers**:\n",
    "+ First Conv layer use **96 Filters of size 11 x 11, strides: 4, No Padding and Relu activation**\n",
    "+ First Conv layer use **256 Filters of size 5 x 5, Same Padding and Relu activation**\n",
    "+ First Conv layer use **384 Filters of size 3 x 3, Same Padding and Relu activation**\n",
    "+ First Conv layer use **384 Filters of size 3 x 3, Same Padding and Relu activation**\n",
    "+ First Conv layer use **256 Filters of size 3 x 3, Same Padding and Relu activation**\n",
    "  \n",
    "There are **3 MaxPool layers**,in which:\n",
    "+ Filter size : **3 x 3**\n",
    "+ Strides : **2**\n",
    "\n",
    "And **3 fully connected layers**:\n",
    "+ First fully connected layer has **1024 hidden units** and uses **Relu activation**\n",
    "+ Second fully connected layer has **1024 hidden units** and uses **Relu activation**\n",
    "+ Third fully connected layer has **10 hidden units** and uses **Softmax activation**\n",
    "  \n",
    "  \n",
    "After Convolution stages, The images are **flattened** and feeded to fully connected layers."
   ]
  },
  {
   "cell_type": "code",
   "execution_count": 10,
   "metadata": {},
   "outputs": [],
   "source": [
    "#Objective:Implements & Compiles the AlexNet architecture on given parameters\n",
    "#inputs:Shape of input image & No. of classes and Optimzer & loss function to be used\n",
    "#Outputs:Returns the implemented CNN model\n",
    "#invoked by:N/A\n",
    "#invokes:N/A\n",
    "#approach:Uses Keras library functions to implement CNN model\n",
    "\n",
    "def cp_model():\n",
    "    classifier = Sequential()\n",
    "    #convolutional layer\n",
    "    classifier.add(Conv2D(96, (11, 11), strides=4,input_shape = (150, 150, 3), activation = 'relu'))\n",
    "\n",
    "    classifier.add(MaxPooling2D(pool_size = (3, 3),strides=2))\n",
    "   \n",
    "    classifier.add(Conv2D(256, (5, 5),padding='same',activation = 'relu'))\n",
    "    classifier.add(MaxPooling2D(pool_size = (3, 3),strides=2))\n",
    "    classifier.add(Conv2D(384, (3, 3),padding='same',activation = 'relu'))\n",
    "    classifier.add(Conv2D(384, (3, 3),padding='same',activation = 'relu'))\n",
    "    classifier.add(Conv2D(256, (3, 3),padding='same',activation = 'relu'))\n",
    "    classifier.add(MaxPooling2D(pool_size = (3, 3),strides=2))\n",
    "    #Flattening\n",
    "    classifier.add(Flatten())\n",
    "    #Full connection\n",
    "    classifier.add(Dense(units = 1024, activation = 'relu'))\n",
    "    classifier.add(Dense(units = 1024, activation = 'relu'))\n",
    "    classifier.add(Dense(units = 10, activation = 'softmax'))\n",
    "    # Compiling the CNN\n",
    "    classifier.compile(optimizer = 'sgd', loss = 'categorical_crossentropy', metrics = ['accuracy'])\n",
    "    \n",
    "    return classifier"
   ]
  },
  {
   "cell_type": "code",
   "execution_count": null,
   "metadata": {},
   "outputs": [],
   "source": [
    "cp_model = cp_model()"
   ]
  },
  {
   "cell_type": "markdown",
   "metadata": {},
   "source": [
    "Now our model is ready to be trained on the traing set, Here we used:\n",
    "+ No. of iterations: **5**\n",
    "+ Size of mini batches: **16**  \n",
    "\n",
    "Run the following cell to train the model on 5 iterations with a batch size of 16. "
   ]
  },
  {
   "cell_type": "code",
   "execution_count": 11,
   "metadata": {},
   "outputs": [
    {
     "name": "stdout",
     "output_type": "stream",
     "text": [
      "Epoch 1/5\n",
      "715/715 [==============================] - ETA: 2:00 - loss: 2.2935 - acc: 0.250 - ETA: 1:49 - loss: 2.2975 - acc: 0.156 - ETA: 1:43 - loss: 2.2951 - acc: 0.104 - ETA: 1:38 - loss: 2.2920 - acc: 0.156 - ETA: 1:31 - loss: 2.2842 - acc: 0.200 - ETA: 1:26 - loss: 2.2821 - acc: 0.208 - ETA: 1:21 - loss: 2.2812 - acc: 0.205 - ETA: 1:18 - loss: 2.2812 - acc: 0.203 - ETA: 1:15 - loss: 2.2785 - acc: 0.194 - ETA: 1:12 - loss: 2.2697 - acc: 0.206 - ETA: 1:10 - loss: 2.2700 - acc: 0.187 - ETA: 1:07 - loss: 2.2726 - acc: 0.192 - ETA: 1:05 - loss: 2.2747 - acc: 0.192 - ETA: 1:02 - loss: 2.2739 - acc: 0.192 - ETA: 1:00 - loss: 2.2756 - acc: 0.191 - ETA: 58s - loss: 2.2766 - acc: 0.179 - ETA: 56s - loss: 2.2692 - acc: 0.20 - ETA: 53s - loss: 2.2637 - acc: 0.20 - ETA: 51s - loss: 2.2631 - acc: 0.19 - ETA: 49s - loss: 2.2599 - acc: 0.20 - ETA: 47s - loss: 2.2606 - acc: 0.20 - ETA: 45s - loss: 2.2567 - acc: 0.20 - ETA: 43s - loss: 2.2523 - acc: 0.20 - ETA: 40s - loss: 2.2504 - acc: 0.20 - ETA: 38s - loss: 2.2408 - acc: 0.21 - ETA: 36s - loss: 2.2380 - acc: 0.21 - ETA: 34s - loss: 2.2423 - acc: 0.21 - ETA: 33s - loss: 2.2437 - acc: 0.20 - ETA: 31s - loss: 2.2343 - acc: 0.20 - ETA: 29s - loss: 2.2340 - acc: 0.21 - ETA: 27s - loss: 2.2341 - acc: 0.20 - ETA: 25s - loss: 2.2333 - acc: 0.20 - ETA: 23s - loss: 2.2363 - acc: 0.20 - ETA: 21s - loss: 2.2340 - acc: 0.21 - ETA: 19s - loss: 2.2312 - acc: 0.21 - ETA: 17s - loss: 2.2316 - acc: 0.20 - ETA: 15s - loss: 2.2169 - acc: 0.21 - ETA: 13s - loss: 2.2100 - acc: 0.22 - ETA: 11s - loss: 2.2100 - acc: 0.21 - ETA: 9s - loss: 2.2152 - acc: 0.2172 - ETA: 7s - loss: 2.2186 - acc: 0.214 - ETA: 5s - loss: 2.2184 - acc: 0.212 - ETA: 3s - loss: 2.2142 - acc: 0.219 - ETA: 1s - loss: 2.2182 - acc: 0.215 - 91s 127ms/step - loss: 2.2193 - acc: 0.2168\n",
      "Epoch 2/5\n",
      "715/715 [==============================] - ETA: 1:29 - loss: 2.2652 - acc: 0.187 - ETA: 1:24 - loss: 2.2624 - acc: 0.250 - ETA: 1:20 - loss: 2.2225 - acc: 0.250 - ETA: 1:18 - loss: 2.2483 - acc: 0.250 - ETA: 1:16 - loss: 2.2483 - acc: 0.237 - ETA: 1:13 - loss: 2.2535 - acc: 0.239 - ETA: 1:12 - loss: 2.2264 - acc: 0.258 - ETA: 1:09 - loss: 2.2063 - acc: 0.250 - ETA: 1:07 - loss: 2.1825 - acc: 0.263 - ETA: 1:05 - loss: 2.1857 - acc: 0.250 - ETA: 1:04 - loss: 2.1956 - acc: 0.238 - ETA: 1:03 - loss: 2.1800 - acc: 0.265 - ETA: 1:01 - loss: 2.1761 - acc: 0.274 - ETA: 59s - loss: 2.1823 - acc: 0.263 - ETA: 57s - loss: 2.1741 - acc: 0.27 - ETA: 55s - loss: 2.1796 - acc: 0.26 - ETA: 53s - loss: 2.1912 - acc: 0.25 - ETA: 50s - loss: 2.1929 - acc: 0.25 - ETA: 48s - loss: 2.1859 - acc: 0.26 - ETA: 46s - loss: 2.1841 - acc: 0.26 - ETA: 44s - loss: 2.1829 - acc: 0.25 - ETA: 43s - loss: 2.1755 - acc: 0.26 - ETA: 41s - loss: 2.1618 - acc: 0.26 - ETA: 39s - loss: 2.1676 - acc: 0.26 - ETA: 37s - loss: 2.1645 - acc: 0.27 - ETA: 35s - loss: 2.1697 - acc: 0.26 - ETA: 33s - loss: 2.1675 - acc: 0.27 - ETA: 31s - loss: 2.1646 - acc: 0.27 - ETA: 29s - loss: 2.1646 - acc: 0.27 - ETA: 27s - loss: 2.1595 - acc: 0.27 - ETA: 25s - loss: 2.1645 - acc: 0.28 - ETA: 23s - loss: 2.1589 - acc: 0.28 - ETA: 21s - loss: 2.1529 - acc: 0.28 - ETA: 20s - loss: 2.1571 - acc: 0.28 - ETA: 18s - loss: 2.1532 - acc: 0.28 - ETA: 16s - loss: 2.1511 - acc: 0.29 - ETA: 14s - loss: 2.1405 - acc: 0.29 - ETA: 12s - loss: 2.1446 - acc: 0.29 - ETA: 10s - loss: 2.1507 - acc: 0.29 - ETA: 8s - loss: 2.1520 - acc: 0.2875 - ETA: 6s - loss: 2.1550 - acc: 0.285 - ETA: 5s - loss: 2.1558 - acc: 0.282 - ETA: 3s - loss: 2.1581 - acc: 0.280 - ETA: 1s - loss: 2.1562 - acc: 0.284 - 84s 117ms/step - loss: 2.1617 - acc: 0.2797\n",
      "Epoch 3/5\n",
      "715/715 [==============================] - ETA: 1:27 - loss: 2.0868 - acc: 0.375 - ETA: 1:24 - loss: 2.0652 - acc: 0.375 - ETA: 1:20 - loss: 2.0556 - acc: 0.354 - ETA: 1:17 - loss: 2.0662 - acc: 0.328 - ETA: 1:15 - loss: 2.0502 - acc: 0.325 - ETA: 1:13 - loss: 2.0414 - acc: 0.322 - ETA: 1:11 - loss: 2.0562 - acc: 0.312 - ETA: 1:09 - loss: 2.0754 - acc: 0.304 - ETA: 1:07 - loss: 2.0621 - acc: 0.305 - ETA: 1:06 - loss: 2.0768 - acc: 0.300 - ETA: 1:04 - loss: 2.1044 - acc: 0.289 - ETA: 1:02 - loss: 2.1148 - acc: 0.281 - ETA: 1:00 - loss: 2.1213 - acc: 0.274 - ETA: 58s - loss: 2.1318 - acc: 0.267 - ETA: 56s - loss: 2.1218 - acc: 0.28 - ETA: 54s - loss: 2.1393 - acc: 0.28 - ETA: 52s - loss: 2.1377 - acc: 0.28 - ETA: 50s - loss: 2.1259 - acc: 0.28 - ETA: 48s - loss: 2.1283 - acc: 0.27 - ETA: 46s - loss: 2.1297 - acc: 0.27 - ETA: 44s - loss: 2.1298 - acc: 0.27 - ETA: 42s - loss: 2.1300 - acc: 0.27 - ETA: 40s - loss: 2.1288 - acc: 0.27 - ETA: 38s - loss: 2.1214 - acc: 0.27 - ETA: 37s - loss: 2.1387 - acc: 0.27 - ETA: 35s - loss: 2.1405 - acc: 0.26 - ETA: 33s - loss: 2.1352 - acc: 0.26 - ETA: 31s - loss: 2.1365 - acc: 0.26 - ETA: 29s - loss: 2.1377 - acc: 0.26 - ETA: 27s - loss: 2.1308 - acc: 0.27 - ETA: 25s - loss: 2.1426 - acc: 0.26 - ETA: 23s - loss: 2.1462 - acc: 0.26 - ETA: 22s - loss: 2.1469 - acc: 0.26 - ETA: 20s - loss: 2.1482 - acc: 0.26 - ETA: 18s - loss: 2.1512 - acc: 0.26 - ETA: 16s - loss: 2.1481 - acc: 0.26 - ETA: 14s - loss: 2.1526 - acc: 0.26 - ETA: 12s - loss: 2.1578 - acc: 0.26 - ETA: 10s - loss: 2.1546 - acc: 0.26 - ETA: 8s - loss: 2.1524 - acc: 0.2734 - ETA: 6s - loss: 2.1573 - acc: 0.271 - ETA: 5s - loss: 2.1514 - acc: 0.272 - ETA: 3s - loss: 2.1579 - acc: 0.268 - ETA: 1s - loss: 2.1585 - acc: 0.268 - 84s 117ms/step - loss: 2.1564 - acc: 0.2699\n",
      "Epoch 4/5\n",
      "715/715 [==============================] - ETA: 1:19 - loss: 2.1288 - acc: 0.250 - ETA: 1:18 - loss: 1.9955 - acc: 0.343 - ETA: 1:16 - loss: 2.0673 - acc: 0.333 - ETA: 1:14 - loss: 2.1235 - acc: 0.281 - ETA: 1:13 - loss: 2.0819 - acc: 0.300 - ETA: 1:11 - loss: 2.0388 - acc: 0.322 - ETA: 1:09 - loss: 2.0866 - acc: 0.303 - ETA: 1:07 - loss: 2.1135 - acc: 0.281 - ETA: 1:05 - loss: 2.1105 - acc: 0.291 - ETA: 1:03 - loss: 2.1734 - acc: 0.262 - ETA: 1:01 - loss: 2.1881 - acc: 0.250 - ETA: 1:00 - loss: 2.1947 - acc: 0.234 - ETA: 58s - loss: 2.1972 - acc: 0.240 - ETA: 56s - loss: 2.1965 - acc: 0.24 - ETA: 54s - loss: 2.1948 - acc: 0.24 - ETA: 52s - loss: 2.2004 - acc: 0.24 - ETA: 50s - loss: 2.1942 - acc: 0.25 - ETA: 49s - loss: 2.1986 - acc: 0.25 - ETA: 47s - loss: 2.2011 - acc: 0.25 - ETA: 45s - loss: 2.1926 - acc: 0.25 - ETA: 43s - loss: 2.1771 - acc: 0.26 - ETA: 41s - loss: 2.1675 - acc: 0.26 - ETA: 39s - loss: 2.1595 - acc: 0.27 - ETA: 38s - loss: 2.1485 - acc: 0.27 - ETA: 36s - loss: 2.1557 - acc: 0.27 - ETA: 34s - loss: 2.1566 - acc: 0.27 - ETA: 32s - loss: 2.1589 - acc: 0.27 - ETA: 30s - loss: 2.1822 - acc: 0.26 - ETA: 28s - loss: 2.1847 - acc: 0.26 - ETA: 27s - loss: 2.1693 - acc: 0.26 - ETA: 25s - loss: 2.1628 - acc: 0.27 - ETA: 23s - loss: 2.1843 - acc: 0.27 - ETA: 21s - loss: 2.1858 - acc: 0.27 - ETA: 19s - loss: 2.1929 - acc: 0.27 - ETA: 17s - loss: 2.2053 - acc: 0.26 - ETA: 16s - loss: 2.2124 - acc: 0.26 - ETA: 14s - loss: 2.2127 - acc: 0.26 - ETA: 12s - loss: 2.2077 - acc: 0.27 - ETA: 10s - loss: 2.2018 - acc: 0.27 - ETA: 8s - loss: 2.2034 - acc: 0.2734 - ETA: 6s - loss: 2.2029 - acc: 0.271 - ETA: 4s - loss: 2.2092 - acc: 0.264 - ETA: 3s - loss: 2.2153 - acc: 0.263 - ETA: 1s - loss: 2.2142 - acc: 0.264 - 83s 115ms/step - loss: 2.2078 - acc: 0.2685\n",
      "Epoch 5/5\n",
      "715/715 [==============================] - ETA: 1:21 - loss: 4.4605 - acc: 0.125 - ETA: 1:20 - loss: 4.4640 - acc: 0.125 - ETA: 1:21 - loss: 4.9226 - acc: 0.104 - ETA: 1:18 - loss: 6.9659 - acc: 0.125 - ETA: 1:15 - loss: 8.5949 - acc: 0.112 - ETA: 1:14 - loss: 9.6809 - acc: 0.104 - ETA: 1:11 - loss: 10.3126 - acc: 0.10 - ETA: 1:09 - loss: 10.9124 - acc: 0.10 - ETA: 1:07 - loss: 11.4908 - acc: 0.09 - ETA: 1:05 - loss: 11.8528 - acc: 0.08 - ETA: 1:03 - loss: 11.8742 - acc: 0.10 - ETA: 1:01 - loss: 12.1279 - acc: 0.09 - ETA: 59s - loss: 12.0474 - acc: 0.1154 - ETA: 57s - loss: 11.9783 - acc: 0.129 - ETA: 55s - loss: 11.9185 - acc: 0.141 - ETA: 53s - loss: 11.8662 - acc: 0.152 - ETA: 51s - loss: 11.9385 - acc: 0.154 - ETA: 49s - loss: 12.0028 - acc: 0.156 - ETA: 47s - loss: 12.0074 - acc: 0.161 - ETA: 45s - loss: 12.1625 - acc: 0.156 - ETA: 43s - loss: 12.1590 - acc: 0.160 - ETA: 41s - loss: 12.2016 - acc: 0.161 - ETA: 40s - loss: 12.2405 - acc: 0.163 - ETA: 38s - loss: 12.3601 - acc: 0.158 - ETA: 36s - loss: 12.4298 - acc: 0.157 - ETA: 34s - loss: 12.3392 - acc: 0.165 - ETA: 32s - loss: 12.4045 - acc: 0.164 - ETA: 30s - loss: 12.3213 - acc: 0.171 - ETA: 28s - loss: 12.3827 - acc: 0.170 - ETA: 27s - loss: 12.3393 - acc: 0.175 - ETA: 25s - loss: 12.3638 - acc: 0.175 - ETA: 23s - loss: 12.3866 - acc: 0.175 - ETA: 21s - loss: 12.4081 - acc: 0.176 - ETA: 19s - loss: 12.4284 - acc: 0.176 - ETA: 17s - loss: 12.4187 - acc: 0.178 - ETA: 16s - loss: 12.3815 - acc: 0.182 - ETA: 14s - loss: 12.4553 - acc: 0.179 - ETA: 12s - loss: 12.4721 - acc: 0.179 - ETA: 10s - loss: 12.5398 - acc: 0.176 - ETA: 8s - loss: 12.6041 - acc: 0.173 - ETA: 6s - loss: 12.6161 - acc: 0.17 - ETA: 4s - loss: 12.6275 - acc: 0.17 - ETA: 3s - loss: 12.5681 - acc: 0.17 - ETA: 1s - loss: 12.5801 - acc: 0.17 - 83s 115ms/step - loss: 12.5894 - acc: 0.1790\n"
     ]
    },
    {
     "data": {
      "text/plain": [
       "<keras.callbacks.History at 0x1d900028550>"
      ]
     },
     "execution_count": 11,
     "metadata": {},
     "output_type": "execute_result"
    }
   ],
   "source": [
    "#Objective:Fits i.e. Trains the above compiled model on given training data\n",
    "#inputs:x_train, y_train, no. of iterations and Batch size\n",
    "#Outputs:loss & accuracy after every iteration\n",
    "#invoked by:N/A\n",
    "#invokes:N/A\n",
    "#approach:N/A\n",
    "cp_model.fit(x_train, y_train,epochs=5, batch_size=16, verbose=1)"
   ]
  },
  {
   "cell_type": "markdown",
   "metadata": {},
   "source": [
    "Evaluate the model on test set"
   ]
  },
  {
   "cell_type": "code",
   "execution_count": 12,
   "metadata": {},
   "outputs": [
    {
     "name": "stdout",
     "output_type": "stream",
     "text": [
      "179/179 [==============================] - ETA:  - ETA:  - ETA:  - ETA:  - ETA:  - 7s 37ms/step\n"
     ]
    }
   ],
   "source": [
    "#Objective:Evaluates the above trained model on test data\n",
    "#inputs:x_test, y_test\n",
    "#Outputs:Loss & Accuracy on test data\n",
    "#invoked by:N/A\n",
    "#invokes:N/A\n",
    "#approach:N/A\n",
    "preds = cp_model.evaluate(x_test, y_test, verbose=1)"
   ]
  },
  {
   "cell_type": "code",
   "execution_count": 13,
   "metadata": {},
   "outputs": [
    {
     "name": "stdout",
     "output_type": "stream",
     "text": [
      "Loss = 12.2461506721\n",
      "Test Accuracy = 0.240223463854\n"
     ]
    }
   ],
   "source": [
    "print(\"Loss = \" + str(preds[0]))\n",
    "print(\"Test Accuracy = \" + str(preds[1]))"
   ]
  },
  {
   "cell_type": "markdown",
   "metadata": {},
   "source": [
    "Here is a **summary** of the above model.    \n",
    "  \n",
    "  \n",
    "It shows the **dimensions of output** at every layer and the **no. of parameters** at every layer.  \n",
    "  \n",
    "  Total trainable Parameters in the model: **7,167,370**"
   ]
  },
  {
   "cell_type": "code",
   "execution_count": 14,
   "metadata": {},
   "outputs": [
    {
     "name": "stdout",
     "output_type": "stream",
     "text": [
      "_________________________________________________________________\n",
      "Layer (type)                 Output Shape              Param #   \n",
      "=================================================================\n",
      "conv2d_1 (Conv2D)            (None, 35, 35, 96)        34944     \n",
      "_________________________________________________________________\n",
      "max_pooling2d_1 (MaxPooling2 (None, 17, 17, 96)        0         \n",
      "_________________________________________________________________\n",
      "conv2d_2 (Conv2D)            (None, 17, 17, 256)       614656    \n",
      "_________________________________________________________________\n",
      "max_pooling2d_2 (MaxPooling2 (None, 8, 8, 256)         0         \n",
      "_________________________________________________________________\n",
      "conv2d_3 (Conv2D)            (None, 8, 8, 384)         885120    \n",
      "_________________________________________________________________\n",
      "conv2d_4 (Conv2D)            (None, 8, 8, 384)         1327488   \n",
      "_________________________________________________________________\n",
      "conv2d_5 (Conv2D)            (None, 8, 8, 256)         884992    \n",
      "_________________________________________________________________\n",
      "max_pooling2d_3 (MaxPooling2 (None, 3, 3, 256)         0         \n",
      "_________________________________________________________________\n",
      "flatten_1 (Flatten)          (None, 2304)              0         \n",
      "_________________________________________________________________\n",
      "dense_1 (Dense)              (None, 1024)              2360320   \n",
      "_________________________________________________________________\n",
      "dense_2 (Dense)              (None, 1024)              1049600   \n",
      "_________________________________________________________________\n",
      "dense_3 (Dense)              (None, 10)                10250     \n",
      "=================================================================\n",
      "Total params: 7,167,370\n",
      "Trainable params: 7,167,370\n",
      "Non-trainable params: 0\n",
      "_________________________________________________________________\n"
     ]
    }
   ],
   "source": [
    "#Objective:Displays the summary of the model (shape & No. of parameters at every layer)\n",
    "#inputs:N/A\n",
    "#Outputs:N/A\n",
    "#invoked by:N/A\n",
    "#invokes:N/A\n",
    "#approach:N/A\n",
    "\n",
    "cp_model.summary()"
   ]
  }
 ],
 "metadata": {
  "kernelspec": {
   "display_name": "Python 3",
   "language": "python",
   "name": "python3"
  },
  "language_info": {
   "codemirror_mode": {
    "name": "ipython",
    "version": 3
   },
   "file_extension": ".py",
   "mimetype": "text/x-python",
   "name": "python",
   "nbconvert_exporter": "python",
   "pygments_lexer": "ipython3",
   "version": "3.5.4"
  }
 },
 "nbformat": 4,
 "nbformat_minor": 2
}
